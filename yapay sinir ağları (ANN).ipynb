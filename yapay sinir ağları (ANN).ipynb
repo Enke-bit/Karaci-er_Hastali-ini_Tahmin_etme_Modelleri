{
 "cells": [
  {
   "cell_type": "code",
   "execution_count": 1,
   "id": "8e5c7584",
   "metadata": {},
   "outputs": [
    {
     "name": "stdout",
     "output_type": "stream",
     "text": [
      "WARNING:tensorflow:From C:\\Users\\realb\\anaconda3\\Lib\\site-packages\\keras\\src\\losses.py:2976: The name tf.losses.sparse_softmax_cross_entropy is deprecated. Please use tf.compat.v1.losses.sparse_softmax_cross_entropy instead.\n",
      "\n"
     ]
    }
   ],
   "source": [
    "import pandas as pd\n",
    "from sklearn.model_selection import train_test_split\n",
    "from sklearn.preprocessing import StandardScaler\n",
    "from tensorflow.keras.models import Sequential\n",
    "from tensorflow.keras.layers import Dense\n",
    "from sklearn.metrics import accuracy_score, classification_report, confusion_matrix\n",
    "\n",
    "# Load the dataset\n",
    "data = pd.read_csv(r'C:\\Users\\realb\\Desktop\\Karaçiğer hastalığı modeli\\Liver_disease_data.csv')\n",
    "\n",
    "# Drop rows with missing values\n",
    "data_cleaned = data.dropna()\n",
    "\n",
    "# Define features and target\n",
    "X = data_cleaned.drop(columns=['Diagnosis'])\n",
    "y = data_cleaned['Diagnosis']\n",
    "\n",
    "# Split the data into training and testing sets\n",
    "X_train, X_test, y_train, y_test = train_test_split(X, y, test_size=0.2, random_state=42)\n",
    "\n",
    "# Standardize the data\n",
    "scaler = StandardScaler()\n",
    "X_train = scaler.fit_transform(X_train)\n",
    "X_test = scaler.transform(X_test)"
   ]
  },
  {
   "cell_type": "code",
   "execution_count": 6,
   "id": "e50244a0",
   "metadata": {},
   "outputs": [
    {
     "name": "stdout",
     "output_type": "stream",
     "text": [
      "Epoch 1/50\n",
      "109/109 [==============================] - 1s 2ms/step - loss: 0.6070 - accuracy: 0.6756 - val_loss: 0.4966 - val_accuracy: 0.8051\n",
      "Epoch 2/50\n",
      "109/109 [==============================] - 0s 1ms/step - loss: 0.4372 - accuracy: 0.8134 - val_loss: 0.3859 - val_accuracy: 0.8493\n",
      "Epoch 3/50\n",
      "109/109 [==============================] - 0s 1ms/step - loss: 0.3915 - accuracy: 0.8318 - val_loss: 0.3747 - val_accuracy: 0.8529\n",
      "Epoch 4/50\n",
      "109/109 [==============================] - 0s 1ms/step - loss: 0.3767 - accuracy: 0.8355 - val_loss: 0.3717 - val_accuracy: 0.8566\n",
      "Epoch 5/50\n",
      "109/109 [==============================] - 0s 1ms/step - loss: 0.3659 - accuracy: 0.8392 - val_loss: 0.3654 - val_accuracy: 0.8603\n",
      "Epoch 6/50\n",
      "109/109 [==============================] - 0s 1ms/step - loss: 0.3575 - accuracy: 0.8493 - val_loss: 0.3639 - val_accuracy: 0.8640\n",
      "Epoch 7/50\n",
      "109/109 [==============================] - 0s 1ms/step - loss: 0.3509 - accuracy: 0.8511 - val_loss: 0.3663 - val_accuracy: 0.8566\n",
      "Epoch 8/50\n",
      "109/109 [==============================] - 0s 1ms/step - loss: 0.3437 - accuracy: 0.8557 - val_loss: 0.3655 - val_accuracy: 0.8529\n",
      "Epoch 9/50\n",
      "109/109 [==============================] - 0s 1ms/step - loss: 0.3387 - accuracy: 0.8640 - val_loss: 0.3579 - val_accuracy: 0.8603\n",
      "Epoch 10/50\n",
      "109/109 [==============================] - 0s 1ms/step - loss: 0.3319 - accuracy: 0.8640 - val_loss: 0.3603 - val_accuracy: 0.8640\n",
      "Epoch 11/50\n",
      "109/109 [==============================] - 0s 1ms/step - loss: 0.3260 - accuracy: 0.8695 - val_loss: 0.3761 - val_accuracy: 0.8493\n",
      "Epoch 12/50\n",
      "109/109 [==============================] - 0s 1ms/step - loss: 0.3266 - accuracy: 0.8732 - val_loss: 0.3615 - val_accuracy: 0.8640\n",
      "Epoch 13/50\n",
      "109/109 [==============================] - 0s 1ms/step - loss: 0.3189 - accuracy: 0.8640 - val_loss: 0.3682 - val_accuracy: 0.8493\n",
      "Epoch 14/50\n",
      "109/109 [==============================] - 0s 1ms/step - loss: 0.3166 - accuracy: 0.8649 - val_loss: 0.3665 - val_accuracy: 0.8529\n",
      "Epoch 15/50\n",
      "109/109 [==============================] - 0s 1ms/step - loss: 0.3099 - accuracy: 0.8704 - val_loss: 0.3759 - val_accuracy: 0.8529\n",
      "Epoch 16/50\n",
      "109/109 [==============================] - 0s 1ms/step - loss: 0.3048 - accuracy: 0.8713 - val_loss: 0.3657 - val_accuracy: 0.8603\n",
      "Epoch 17/50\n",
      "109/109 [==============================] - 0s 1ms/step - loss: 0.3022 - accuracy: 0.8741 - val_loss: 0.3699 - val_accuracy: 0.8529\n",
      "Epoch 18/50\n",
      "109/109 [==============================] - 0s 1ms/step - loss: 0.2997 - accuracy: 0.8722 - val_loss: 0.3759 - val_accuracy: 0.8603\n",
      "Epoch 19/50\n",
      "109/109 [==============================] - 0s 1ms/step - loss: 0.2966 - accuracy: 0.8732 - val_loss: 0.3703 - val_accuracy: 0.8603\n",
      "Epoch 20/50\n",
      "109/109 [==============================] - 0s 1ms/step - loss: 0.2916 - accuracy: 0.8778 - val_loss: 0.3688 - val_accuracy: 0.8676\n",
      "Epoch 21/50\n",
      "109/109 [==============================] - 0s 1ms/step - loss: 0.2882 - accuracy: 0.8842 - val_loss: 0.3660 - val_accuracy: 0.8640\n",
      "Epoch 22/50\n",
      "109/109 [==============================] - 0s 1ms/step - loss: 0.2824 - accuracy: 0.8833 - val_loss: 0.3752 - val_accuracy: 0.8676\n",
      "Epoch 23/50\n",
      "109/109 [==============================] - 0s 1ms/step - loss: 0.2822 - accuracy: 0.8897 - val_loss: 0.3820 - val_accuracy: 0.8603\n",
      "Epoch 24/50\n",
      "109/109 [==============================] - 0s 1ms/step - loss: 0.2762 - accuracy: 0.8860 - val_loss: 0.3772 - val_accuracy: 0.8640\n",
      "Epoch 25/50\n",
      "109/109 [==============================] - 0s 1ms/step - loss: 0.2707 - accuracy: 0.8915 - val_loss: 0.3738 - val_accuracy: 0.8713\n",
      "Epoch 26/50\n",
      "109/109 [==============================] - 0s 1ms/step - loss: 0.2675 - accuracy: 0.8906 - val_loss: 0.3773 - val_accuracy: 0.8640\n",
      "Epoch 27/50\n",
      "109/109 [==============================] - 0s 1ms/step - loss: 0.2642 - accuracy: 0.8998 - val_loss: 0.3726 - val_accuracy: 0.8603\n",
      "Epoch 28/50\n",
      "109/109 [==============================] - 0s 1ms/step - loss: 0.2588 - accuracy: 0.8925 - val_loss: 0.3820 - val_accuracy: 0.8566\n",
      "Epoch 29/50\n",
      "109/109 [==============================] - 0s 1ms/step - loss: 0.2576 - accuracy: 0.8998 - val_loss: 0.3788 - val_accuracy: 0.8603\n",
      "Epoch 30/50\n",
      "109/109 [==============================] - 0s 1ms/step - loss: 0.2498 - accuracy: 0.8943 - val_loss: 0.3935 - val_accuracy: 0.8603\n",
      "Epoch 31/50\n",
      "109/109 [==============================] - 0s 1ms/step - loss: 0.2475 - accuracy: 0.9026 - val_loss: 0.3693 - val_accuracy: 0.8603\n",
      "Epoch 32/50\n",
      "109/109 [==============================] - 0s 1ms/step - loss: 0.2465 - accuracy: 0.9007 - val_loss: 0.3915 - val_accuracy: 0.8566\n",
      "Epoch 33/50\n",
      "109/109 [==============================] - 0s 1ms/step - loss: 0.2375 - accuracy: 0.9136 - val_loss: 0.3794 - val_accuracy: 0.8603\n",
      "Epoch 34/50\n",
      "109/109 [==============================] - 0s 1ms/step - loss: 0.2350 - accuracy: 0.9108 - val_loss: 0.3990 - val_accuracy: 0.8603\n",
      "Epoch 35/50\n",
      "109/109 [==============================] - 0s 1ms/step - loss: 0.2324 - accuracy: 0.9136 - val_loss: 0.3880 - val_accuracy: 0.8603\n",
      "Epoch 36/50\n",
      "109/109 [==============================] - 0s 1ms/step - loss: 0.2306 - accuracy: 0.9136 - val_loss: 0.4075 - val_accuracy: 0.8603\n",
      "Epoch 37/50\n",
      "109/109 [==============================] - 0s 1ms/step - loss: 0.2240 - accuracy: 0.9200 - val_loss: 0.3994 - val_accuracy: 0.8456\n",
      "Epoch 38/50\n",
      "109/109 [==============================] - 0s 1ms/step - loss: 0.2240 - accuracy: 0.9127 - val_loss: 0.3990 - val_accuracy: 0.8529\n",
      "Epoch 39/50\n",
      "109/109 [==============================] - 0s 1ms/step - loss: 0.2156 - accuracy: 0.9237 - val_loss: 0.4074 - val_accuracy: 0.8640\n",
      "Epoch 40/50\n",
      "109/109 [==============================] - 0s 1ms/step - loss: 0.2168 - accuracy: 0.9164 - val_loss: 0.4033 - val_accuracy: 0.8603\n",
      "Epoch 41/50\n",
      "109/109 [==============================] - 0s 1ms/step - loss: 0.2072 - accuracy: 0.9219 - val_loss: 0.4175 - val_accuracy: 0.8456\n",
      "Epoch 42/50\n",
      "109/109 [==============================] - 0s 1ms/step - loss: 0.2052 - accuracy: 0.9347 - val_loss: 0.3935 - val_accuracy: 0.8640\n",
      "Epoch 43/50\n",
      "109/109 [==============================] - 0s 1ms/step - loss: 0.1995 - accuracy: 0.9320 - val_loss: 0.4195 - val_accuracy: 0.8529\n",
      "Epoch 44/50\n",
      "109/109 [==============================] - 0s 1ms/step - loss: 0.1976 - accuracy: 0.9311 - val_loss: 0.4069 - val_accuracy: 0.8493\n",
      "Epoch 45/50\n",
      "109/109 [==============================] - 0s 1ms/step - loss: 0.1947 - accuracy: 0.9274 - val_loss: 0.4081 - val_accuracy: 0.8529\n",
      "Epoch 46/50\n",
      "109/109 [==============================] - 0s 1ms/step - loss: 0.1916 - accuracy: 0.9265 - val_loss: 0.4271 - val_accuracy: 0.8493\n",
      "Epoch 47/50\n",
      "109/109 [==============================] - 0s 1ms/step - loss: 0.1872 - accuracy: 0.9366 - val_loss: 0.4249 - val_accuracy: 0.8419\n",
      "Epoch 48/50\n",
      "109/109 [==============================] - 0s 1ms/step - loss: 0.1839 - accuracy: 0.9338 - val_loss: 0.4682 - val_accuracy: 0.8382\n",
      "Epoch 49/50\n",
      "109/109 [==============================] - 0s 1ms/step - loss: 0.1819 - accuracy: 0.9357 - val_loss: 0.4209 - val_accuracy: 0.8456\n",
      "Epoch 50/50\n",
      "109/109 [==============================] - 0s 1ms/step - loss: 0.1773 - accuracy: 0.9393 - val_loss: 0.4307 - val_accuracy: 0.8456\n"
     ]
    },
    {
     "data": {
      "text/plain": [
       "<keras.src.callbacks.History at 0x2cd5ea1c950>"
      ]
     },
     "execution_count": 6,
     "metadata": {},
     "output_type": "execute_result"
    }
   ],
   "source": [
    "# Create the ANN model\n",
    "model = Sequential()\n",
    "model.add(Dense(64, input_dim=X_train.shape[1], activation='relu'))\n",
    "model.add(Dense(32, activation='relu'))\n",
    "model.add(Dense(1, activation='sigmoid'))\n",
    "\n",
    "# Compile the model\n",
    "model.compile(loss='binary_crossentropy', optimizer='adam', metrics=['accuracy'])\n",
    "\n",
    "# Train the model\n",
    "model.fit(X_train, y_train, epochs=50, batch_size=10, validation_split=0.2)"
   ]
  },
  {
   "cell_type": "code",
   "execution_count": 7,
   "id": "d7b44665",
   "metadata": {},
   "outputs": [
    {
     "name": "stdout",
     "output_type": "stream",
     "text": [
      "11/11 [==============================] - 0s 801us/step\n",
      "Accuracy: 0.8529411764705882\n",
      "Classification Report:\n",
      "              precision    recall  f1-score   support\n",
      "\n",
      "           0       0.91      0.77      0.83       162\n",
      "           1       0.81      0.93      0.87       178\n",
      "\n",
      "    accuracy                           0.85       340\n",
      "   macro avg       0.86      0.85      0.85       340\n",
      "weighted avg       0.86      0.85      0.85       340\n",
      "\n",
      "Confusion Matrix:\n",
      "[[124  38]\n",
      " [ 12 166]]\n"
     ]
    }
   ],
   "source": [
    "# Make predictions on the test set\n",
    "y_pred_prob = model.predict(X_test)\n",
    "y_pred = (y_pred_prob > 0.5).astype(int)\n",
    "\n",
    "# Evaluate the model\n",
    "accuracy = accuracy_score(y_test, y_pred)\n",
    "classification_report_output = classification_report(y_test, y_pred)\n",
    "conf_matrix = confusion_matrix(y_test, y_pred)\n",
    "\n",
    "print(f'Accuracy: {accuracy}')\n",
    "print('Classification Report:')\n",
    "print(classification_report_output)\n",
    "print('Confusion Matrix:')\n",
    "print(conf_matrix)"
   ]
  }
 ],
 "metadata": {
  "kernelspec": {
   "display_name": "Python 3 (ipykernel)",
   "language": "python",
   "name": "python3"
  },
  "language_info": {
   "codemirror_mode": {
    "name": "ipython",
    "version": 3
   },
   "file_extension": ".py",
   "mimetype": "text/x-python",
   "name": "python",
   "nbconvert_exporter": "python",
   "pygments_lexer": "ipython3",
   "version": "3.11.5"
  }
 },
 "nbformat": 4,
 "nbformat_minor": 5
}
